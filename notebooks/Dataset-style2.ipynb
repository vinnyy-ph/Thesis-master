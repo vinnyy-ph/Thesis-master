{
 "cells": [
  {
   "cell_type": "code",
   "execution_count": 6,
   "metadata": {},
   "outputs": [],
   "source": [
    "from PIL import Image\n",
    "import os\n",
    "from tqdm import tqdm\n",
    "import numpy as np\n",
    "import shutil\n",
    "from sklearn.model_selection import train_test_split\n",
    "\n",
    "from PIL import ImageFile\n",
    "ImageFile.LOAD_TRUNCATED_IMAGES = True"
   ]
  },
  {
   "cell_type": "code",
   "execution_count": 8,
   "metadata": {},
   "outputs": [],
   "source": [
    "source = '/media/data2/dataset/GAN_ImageData/StyleGAN2_256/1'\n",
    "real_source = '/media/data2/dataset/GAN_ImageData/StyleGAN_256/'\n",
    "real_category = ['train', 'validation', 'test']\n",
    "target = '/media/data2/dataset/GAN_ImageData/StyleGAN2_256/'"
   ]
  },
  {
   "cell_type": "code",
   "execution_count": 7,
   "metadata": {},
   "outputs": [],
   "source": [
    "fake_set = os.listdir(source)"
   ]
  },
  {
   "cell_type": "code",
   "execution_count": 14,
   "metadata": {},
   "outputs": [
    {
     "name": "stderr",
     "output_type": "stream",
     "text": [
      "100%|██████████| 35100/35100 [01:15<00:00, 1014.61it/s]\n",
      "100%|██████████| 3900/3900 [00:03<00:00, 1148.39it/s]\n",
      "100%|██████████| 30001/30001 [00:15<00:00, 1936.57it/s]\n"
     ]
    }
   ],
   "source": [
    "length_list = []\n",
    "for c in real_category:\n",
    "    c += '/0'\n",
    "    source_dir = os.path.join(real_source, c)\n",
    "    target_dir = os.path.join(target, c)\n",
    "    images = os.listdir(source_dir)\n",
    "    length_list.append(len(images))\n",
    "    \n",
    "    for i in tqdm(images):\n",
    "        img_dir = os.path.join(source_dir, i)\n",
    "        shutil.copy2(img_dir, target_dir)"
   ]
  },
  {
   "cell_type": "code",
   "execution_count": 15,
   "metadata": {},
   "outputs": [],
   "source": [
    "fake_train, fake_test = train_test_split(fake_set, test_size=30000)"
   ]
  },
  {
   "cell_type": "code",
   "execution_count": 20,
   "metadata": {},
   "outputs": [],
   "source": [
    "fake_train, fake_val = train_test_split(fake_train, test_size=3900)"
   ]
  },
  {
   "cell_type": "code",
   "execution_count": 22,
   "metadata": {},
   "outputs": [
    {
     "name": "stdout",
     "output_type": "stream",
     "text": [
      "42356 3900 30000\n"
     ]
    }
   ],
   "source": [
    "print(len(fake_train), len(fake_val), len(fake_test))\n",
    "fake_list = [fake_train, fake_val, fake_test]"
   ]
  },
  {
   "cell_type": "code",
   "execution_count": 23,
   "metadata": {},
   "outputs": [
    {
     "name": "stderr",
     "output_type": "stream",
     "text": [
      "100%|██████████| 42356/42356 [00:36<00:00, 1145.87it/s]\n",
      "100%|██████████| 3900/3900 [00:07<00:00, 488.52it/s]\n",
      "100%|██████████| 30000/30000 [01:12<00:00, 413.24it/s]\n"
     ]
    }
   ],
   "source": [
    "for idx in range(3):\n",
    "    tmp = fake_list[idx]\n",
    "    category = real_category[idx]\n",
    "    for i in tqdm(tmp):\n",
    "        c_dir = os.path.join(target, category)\n",
    "        c_dir = os.path.join(c_dir, '1')\n",
    "        img_dir = os.path.join(c_dir, i)\n",
    "        source_img = os.path.join(source, i)\n",
    "        shutil.copy2(source_img, img_dir)"
   ]
  },
  {
   "cell_type": "code",
   "execution_count": null,
   "metadata": {},
   "outputs": [],
   "source": []
  },
  {
   "cell_type": "code",
   "execution_count": null,
   "metadata": {},
   "outputs": [],
   "source": []
  },
  {
   "cell_type": "code",
   "execution_count": null,
   "metadata": {},
   "outputs": [],
   "source": []
  },
  {
   "cell_type": "code",
   "execution_count": null,
   "metadata": {},
   "outputs": [],
   "source": []
  },
  {
   "cell_type": "code",
   "execution_count": null,
   "metadata": {},
   "outputs": [],
   "source": []
  }
 ],
 "metadata": {
  "kernelspec": {
   "display_name": "Python 3",
   "language": "python",
   "name": "python3"
  },
  "language_info": {
   "codemirror_mode": {
    "name": "ipython",
    "version": 3
   },
   "file_extension": ".py",
   "mimetype": "text/x-python",
   "name": "python",
   "nbconvert_exporter": "python",
   "pygments_lexer": "ipython3",
   "version": "3.7.3"
  }
 },
 "nbformat": 4,
 "nbformat_minor": 2
}

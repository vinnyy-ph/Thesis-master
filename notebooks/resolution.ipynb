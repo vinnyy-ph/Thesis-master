{
 "cells": [
  {
   "cell_type": "code",
   "execution_count": 1,
   "metadata": {},
   "outputs": [],
   "source": [
    "from PIL import Image\n",
    "import os\n",
    "from tqdm import tqdm\n",
    "import numpy as np\n",
    "\n",
    "from PIL import ImageFile\n",
    "ImageFile.LOAD_TRUNCATED_IMAGES = True"
   ]
  },
  {
   "cell_type": "code",
   "execution_count": 2,
   "metadata": {},
   "outputs": [
    {
     "name": "stderr",
     "output_type": "stream",
     "text": [
      "100%|██████████| 30001/30001 [1:40:08<00:00,  4.99it/s]  \n",
      "  0%|          | 0/30000 [00:00<?, ?it/s]"
     ]
    },
    {
     "name": "stdout",
     "output_type": "stream",
     "text": [
      "/media/data2/dataset/GAN_ImageData/StyleGAN_1024/test/1/Thumbs.db\n"
     ]
    },
    {
     "name": "stderr",
     "output_type": "stream",
     "text": [
      "100%|██████████| 30000/30000 [1:41:37<00:00,  4.92it/s]  \n",
      "100%|██████████| 3900/3900 [14:52<00:00,  5.67it/s]\n",
      "100%|██████████| 3900/3900 [14:59<00:00,  4.57it/s]\n",
      "100%|██████████| 1000/1000 [03:28<00:00,  7.51it/s]\n",
      "100%|██████████| 1001/1001 [03:15<00:00,  5.12it/s]\n",
      "  0%|          | 0/33739 [00:00<?, ?it/s]"
     ]
    },
    {
     "name": "stdout",
     "output_type": "stream",
     "text": [
      "/media/data2/dataset/GAN_ImageData/StyleGAN_1024/fine_tune/0/Thumbs.db\n"
     ]
    },
    {
     "name": "stderr",
     "output_type": "stream",
     "text": [
      "100%|██████████| 33739/33739 [1:59:09<00:00,  7.64it/s]  \n",
      "100%|██████████| 35100/35100 [2:02:58<00:00,  4.76it/s]  "
     ]
    },
    {
     "name": "stdout",
     "output_type": "stream",
     "text": [
      "/media/data2/dataset/GAN_ImageData/StyleGAN_1024/train/0/Thumbs.db\n"
     ]
    },
    {
     "name": "stderr",
     "output_type": "stream",
     "text": [
      "\n"
     ]
    }
   ],
   "source": [
    "source_dir = '/media/data2/dataset/GAN_ImageData/psi-1.0/'\n",
    "target_dir = '/media/data2/dataset/GAN_ImageData/StyleGAN2_256/'\n",
    "\n",
    "for t in os.listdir(source_dir):\n",
    "    t_dir = os.path.join(source_dir, t)\n",
    "    t_target = os.path.join(target_dir, t)\n",
    "    for r in os.listdir(t_dir):\n",
    "        r_dir = os.path.join(t_dir, r)\n",
    "        r_target = os.path.join(t_target, r)\n",
    "        images = np.sort(os.listdir(r_dir))\n",
    "        for i in tqdm(images):\n",
    "            i_dir = os.path.join(r_dir, i)\n",
    "            i_target = os.path.join(r_target, i)\n",
    "            if i_dir[-3:] != 'png':\n",
    "                print(i_dir)\n",
    "                continue\n",
    "            image = Image.open(i_dir).resize((256, 256))\n",
    "            image.save(i_target, \"png\", quality=100)"
   ]
  },
  {
   "cell_type": "code",
   "execution_count": 3,
   "metadata": {},
   "outputs": [
    {
     "data": {
      "text/plain": [
       "'/media/data2/dataset/GAN_ImageData/StyleGAN_1024/train/0'"
      ]
     },
     "execution_count": 3,
     "metadata": {},
     "output_type": "execute_result"
    }
   ],
   "source": [
    "r_dir"
   ]
  },
  {
   "cell_type": "code",
   "execution_count": null,
   "metadata": {},
   "outputs": [],
   "source": []
  }
 ],
 "metadata": {
  "kernelspec": {
   "display_name": "Python 3",
   "language": "python",
   "name": "python3"
  },
  "language_info": {
   "codemirror_mode": {
    "name": "ipython",
    "version": 3
   },
   "file_extension": ".py",
   "mimetype": "text/x-python",
   "name": "python",
   "nbconvert_exporter": "python",
   "pygments_lexer": "ipython3",
   "version": "3.7.3"
  }
 },
 "nbformat": 4,
 "nbformat_minor": 2
}

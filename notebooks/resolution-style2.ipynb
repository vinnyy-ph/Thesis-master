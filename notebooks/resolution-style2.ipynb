{
 "cells": [
  {
   "cell_type": "code",
   "execution_count": 2,
   "metadata": {},
   "outputs": [],
   "source": [
    "from PIL import Image\n",
    "import os\n",
    "from tqdm import tqdm\n",
    "import numpy as np\n",
    "\n",
    "from PIL import ImageFile\n",
    "ImageFile.LOAD_TRUNCATED_IMAGES = True"
   ]
  },
  {
   "cell_type": "code",
   "execution_count": 3,
   "metadata": {},
   "outputs": [],
   "source": [
    "source_dir = '/media/data2/dataset/GAN_ImageData/psi-1.0/'\n",
    "target_dir = '/media/data2/dataset/GAN_ImageData/StyleGAN2_256/1'"
   ]
  },
  {
   "cell_type": "code",
   "execution_count": 4,
   "metadata": {},
   "outputs": [
    {
     "name": "stderr",
     "output_type": "stream",
     "text": [
      "100%|██████████| 1001/1001 [02:00<00:00,  8.28it/s]\n",
      "  0%|          | 2/684 [00:00<01:05, 10.47it/s]"
     ]
    },
    {
     "name": "stdout",
     "output_type": "stream",
     "text": [
      "/media/data2/dataset/GAN_ImageData/psi-1.0/000000/desktop.ini\n"
     ]
    },
    {
     "name": "stderr",
     "output_type": "stream",
     "text": [
      "100%|██████████| 684/684 [01:21<00:00,  8.39it/s]\n",
      "  0%|          | 1/784 [00:00<02:00,  6.50it/s]"
     ]
    },
    {
     "name": "stdout",
     "output_type": "stream",
     "text": [
      "/media/data2/dataset/GAN_ImageData/psi-1.0/001000/desktop.ini\n"
     ]
    },
    {
     "name": "stderr",
     "output_type": "stream",
     "text": [
      "100%|██████████| 784/784 [01:35<00:00,  8.23it/s]\n",
      "  0%|          | 0/706 [00:00<?, ?it/s]"
     ]
    },
    {
     "name": "stdout",
     "output_type": "stream",
     "text": [
      "/media/data2/dataset/GAN_ImageData/psi-1.0/002000/desktop.ini\n"
     ]
    },
    {
     "name": "stderr",
     "output_type": "stream",
     "text": [
      "100%|██████████| 706/706 [01:20<00:00,  8.75it/s]\n",
      "  0%|          | 1/506 [00:00<00:59,  8.51it/s]"
     ]
    },
    {
     "name": "stdout",
     "output_type": "stream",
     "text": [
      "/media/data2/dataset/GAN_ImageData/psi-1.0/003000/desktop.ini\n"
     ]
    },
    {
     "name": "stderr",
     "output_type": "stream",
     "text": [
      "100%|██████████| 506/506 [00:53<00:00,  9.54it/s]\n",
      "  0%|          | 0/226 [00:00<?, ?it/s]"
     ]
    },
    {
     "name": "stdout",
     "output_type": "stream",
     "text": [
      "/media/data2/dataset/GAN_ImageData/psi-1.0/004000/desktop.ini\n"
     ]
    },
    {
     "name": "stderr",
     "output_type": "stream",
     "text": [
      "100%|██████████| 226/226 [00:26<00:00,  8.46it/s]\n",
      "  0%|          | 1/473 [00:00<00:55,  8.44it/s]"
     ]
    },
    {
     "name": "stdout",
     "output_type": "stream",
     "text": [
      "/media/data2/dataset/GAN_ImageData/psi-1.0/005000/desktop.ini\n"
     ]
    },
    {
     "name": "stderr",
     "output_type": "stream",
     "text": [
      "100%|██████████| 473/473 [00:52<00:00,  9.08it/s]\n",
      "  0%|          | 1/754 [00:00<01:51,  6.75it/s]"
     ]
    },
    {
     "name": "stdout",
     "output_type": "stream",
     "text": [
      "/media/data2/dataset/GAN_ImageData/psi-1.0/006000/desktop.ini\n"
     ]
    },
    {
     "name": "stderr",
     "output_type": "stream",
     "text": [
      "100%|██████████| 754/754 [01:26<00:00,  8.69it/s]\n",
      "  0%|          | 1/939 [00:00<01:52,  8.31it/s]"
     ]
    },
    {
     "name": "stdout",
     "output_type": "stream",
     "text": [
      "/media/data2/dataset/GAN_ImageData/psi-1.0/007000/desktop.ini\n"
     ]
    },
    {
     "name": "stderr",
     "output_type": "stream",
     "text": [
      "100%|██████████| 939/939 [01:44<00:00,  8.99it/s]\n",
      "  0%|          | 1/953 [00:00<02:01,  7.83it/s]"
     ]
    },
    {
     "name": "stdout",
     "output_type": "stream",
     "text": [
      "/media/data2/dataset/GAN_ImageData/psi-1.0/008000/desktop.ini\n"
     ]
    },
    {
     "name": "stderr",
     "output_type": "stream",
     "text": [
      "100%|██████████| 953/953 [01:50<00:00,  8.64it/s]\n",
      "100%|██████████| 1/1 [00:00<00:00, 1850.16it/s]\n",
      "  0%|          | 1/822 [00:00<01:46,  7.72it/s]"
     ]
    },
    {
     "name": "stdout",
     "output_type": "stream",
     "text": [
      "/media/data2/dataset/GAN_ImageData/psi-1.0/009000/desktop.ini\n",
      "/media/data2/dataset/GAN_ImageData/psi-1.0/010000/desktop.ini\n"
     ]
    },
    {
     "name": "stderr",
     "output_type": "stream",
     "text": [
      "100%|██████████| 822/822 [01:33<00:00,  8.76it/s]\n",
      "  0%|          | 0/526 [00:00<?, ?it/s]"
     ]
    },
    {
     "name": "stdout",
     "output_type": "stream",
     "text": [
      "/media/data2/dataset/GAN_ImageData/psi-1.0/011000/desktop.ini\n"
     ]
    },
    {
     "name": "stderr",
     "output_type": "stream",
     "text": [
      "100%|██████████| 526/526 [01:03<00:00,  8.33it/s]\n",
      "  0%|          | 1/908 [00:00<01:35,  9.50it/s]"
     ]
    },
    {
     "name": "stdout",
     "output_type": "stream",
     "text": [
      "/media/data2/dataset/GAN_ImageData/psi-1.0/012000/desktop.ini\n"
     ]
    },
    {
     "name": "stderr",
     "output_type": "stream",
     "text": [
      "100%|██████████| 908/908 [01:43<00:00,  8.80it/s]\n",
      "  0%|          | 2/835 [00:00<01:14, 11.25it/s]"
     ]
    },
    {
     "name": "stdout",
     "output_type": "stream",
     "text": [
      "/media/data2/dataset/GAN_ImageData/psi-1.0/013000/desktop.ini\n"
     ]
    },
    {
     "name": "stderr",
     "output_type": "stream",
     "text": [
      "100%|██████████| 835/835 [01:31<00:00,  9.14it/s]\n",
      "  0%|          | 0/880 [00:00<?, ?it/s]"
     ]
    },
    {
     "name": "stdout",
     "output_type": "stream",
     "text": [
      "/media/data2/dataset/GAN_ImageData/psi-1.0/014000/desktop.ini\n"
     ]
    },
    {
     "name": "stderr",
     "output_type": "stream",
     "text": [
      "100%|██████████| 880/880 [01:38<00:00,  8.90it/s]\n",
      "  0%|          | 2/962 [00:00<01:24, 11.42it/s]"
     ]
    },
    {
     "name": "stdout",
     "output_type": "stream",
     "text": [
      "/media/data2/dataset/GAN_ImageData/psi-1.0/015000/desktop.ini\n"
     ]
    },
    {
     "name": "stderr",
     "output_type": "stream",
     "text": [
      "100%|██████████| 962/962 [01:49<00:00,  8.80it/s]\n",
      "  0%|          | 1/951 [00:00<01:45,  8.98it/s]"
     ]
    },
    {
     "name": "stdout",
     "output_type": "stream",
     "text": [
      "/media/data2/dataset/GAN_ImageData/psi-1.0/016000/desktop.ini\n"
     ]
    },
    {
     "name": "stderr",
     "output_type": "stream",
     "text": [
      "100%|██████████| 951/951 [01:51<00:00,  8.51it/s]\n",
      "  0%|          | 0/474 [00:00<?, ?it/s]"
     ]
    },
    {
     "name": "stdout",
     "output_type": "stream",
     "text": [
      "/media/data2/dataset/GAN_ImageData/psi-1.0/017000/desktop.ini\n"
     ]
    },
    {
     "name": "stderr",
     "output_type": "stream",
     "text": [
      "100%|██████████| 474/474 [00:53<00:00,  8.82it/s]\n",
      "  3%|▎         | 1/33 [00:00<00:04,  7.95it/s]"
     ]
    },
    {
     "name": "stdout",
     "output_type": "stream",
     "text": [
      "/media/data2/dataset/GAN_ImageData/psi-1.0/018000/desktop.ini\n"
     ]
    },
    {
     "name": "stderr",
     "output_type": "stream",
     "text": [
      "100%|██████████| 33/33 [00:03<00:00,  9.51it/s]\n",
      "  0%|          | 1/955 [00:00<02:27,  6.46it/s]"
     ]
    },
    {
     "name": "stdout",
     "output_type": "stream",
     "text": [
      "/media/data2/dataset/GAN_ImageData/psi-1.0/019000/desktop.ini\n"
     ]
    },
    {
     "name": "stderr",
     "output_type": "stream",
     "text": [
      "100%|██████████| 955/955 [01:52<00:00,  8.51it/s]\n",
      "  0%|          | 2/815 [00:00<01:08, 11.87it/s]"
     ]
    },
    {
     "name": "stdout",
     "output_type": "stream",
     "text": [
      "/media/data2/dataset/GAN_ImageData/psi-1.0/020000/desktop.ini\n"
     ]
    },
    {
     "name": "stderr",
     "output_type": "stream",
     "text": [
      "100%|██████████| 815/815 [01:40<00:00,  8.10it/s]\n",
      "  0%|          | 0/108 [00:00<?, ?it/s]"
     ]
    },
    {
     "name": "stdout",
     "output_type": "stream",
     "text": [
      "/media/data2/dataset/GAN_ImageData/psi-1.0/021000/desktop.ini\n"
     ]
    },
    {
     "name": "stderr",
     "output_type": "stream",
     "text": [
      "100%|██████████| 108/108 [00:11<00:00, 11.13it/s]\n",
      "  0%|          | 2/942 [00:00<01:15, 12.53it/s]"
     ]
    },
    {
     "name": "stdout",
     "output_type": "stream",
     "text": [
      "/media/data2/dataset/GAN_ImageData/psi-1.0/022000/desktop.ini\n"
     ]
    },
    {
     "name": "stderr",
     "output_type": "stream",
     "text": [
      "100%|██████████| 942/942 [01:49<00:00,  8.59it/s]\n",
      "  0%|          | 1/839 [00:00<01:46,  7.85it/s]"
     ]
    },
    {
     "name": "stdout",
     "output_type": "stream",
     "text": [
      "/media/data2/dataset/GAN_ImageData/psi-1.0/023000/desktop.ini\n"
     ]
    },
    {
     "name": "stderr",
     "output_type": "stream",
     "text": [
      "100%|██████████| 839/839 [01:39<00:00,  8.46it/s]\n",
      "  0%|          | 1/511 [00:00<01:26,  5.87it/s]"
     ]
    },
    {
     "name": "stdout",
     "output_type": "stream",
     "text": [
      "/media/data2/dataset/GAN_ImageData/psi-1.0/024000/desktop.ini\n"
     ]
    },
    {
     "name": "stderr",
     "output_type": "stream",
     "text": [
      "100%|██████████| 511/511 [00:57<00:00,  8.87it/s]\n",
      "  0%|          | 1/877 [00:00<01:49,  7.99it/s]"
     ]
    },
    {
     "name": "stdout",
     "output_type": "stream",
     "text": [
      "/media/data2/dataset/GAN_ImageData/psi-1.0/025000/desktop.ini\n"
     ]
    },
    {
     "name": "stderr",
     "output_type": "stream",
     "text": [
      "100%|██████████| 877/877 [01:38<00:00,  8.90it/s]\n",
      "  1%|          | 2/392 [00:00<00:36, 10.60it/s]"
     ]
    },
    {
     "name": "stdout",
     "output_type": "stream",
     "text": [
      "/media/data2/dataset/GAN_ImageData/psi-1.0/026000/desktop.ini\n"
     ]
    },
    {
     "name": "stderr",
     "output_type": "stream",
     "text": [
      "100%|██████████| 392/392 [00:43<00:00,  8.98it/s]\n",
      "  0%|          | 0/9 [00:00<?, ?it/s]"
     ]
    },
    {
     "name": "stdout",
     "output_type": "stream",
     "text": [
      "/media/data2/dataset/GAN_ImageData/psi-1.0/027000/desktop.ini\n"
     ]
    },
    {
     "name": "stderr",
     "output_type": "stream",
     "text": [
      "100%|██████████| 9/9 [00:00<00:00, 10.33it/s]\n",
      "  0%|          | 2/679 [00:00<01:01, 10.95it/s]"
     ]
    },
    {
     "name": "stdout",
     "output_type": "stream",
     "text": [
      "/media/data2/dataset/GAN_ImageData/psi-1.0/028000/desktop.ini\n"
     ]
    },
    {
     "name": "stderr",
     "output_type": "stream",
     "text": [
      "100%|██████████| 679/679 [01:16<00:00,  8.86it/s]\n",
      "  0%|          | 1/913 [00:00<01:56,  7.84it/s]"
     ]
    },
    {
     "name": "stdout",
     "output_type": "stream",
     "text": [
      "/media/data2/dataset/GAN_ImageData/psi-1.0/029000/desktop.ini\n"
     ]
    },
    {
     "name": "stderr",
     "output_type": "stream",
     "text": [
      "100%|██████████| 913/913 [01:52<00:00,  8.13it/s]\n",
      "  0%|          | 0/652 [00:00<?, ?it/s]"
     ]
    },
    {
     "name": "stdout",
     "output_type": "stream",
     "text": [
      "/media/data2/dataset/GAN_ImageData/psi-1.0/030000/desktop.ini\n"
     ]
    },
    {
     "name": "stderr",
     "output_type": "stream",
     "text": [
      "100%|██████████| 652/652 [01:21<00:00,  8.01it/s]\n",
      "  0%|          | 2/975 [00:00<01:35, 10.17it/s]"
     ]
    },
    {
     "name": "stdout",
     "output_type": "stream",
     "text": [
      "/media/data2/dataset/GAN_ImageData/psi-1.0/031000/desktop.ini\n"
     ]
    },
    {
     "name": "stderr",
     "output_type": "stream",
     "text": [
      "100%|██████████| 975/975 [01:53<00:00,  8.58it/s]\n",
      "  0%|          | 2/686 [00:00<01:02, 10.93it/s]"
     ]
    },
    {
     "name": "stdout",
     "output_type": "stream",
     "text": [
      "/media/data2/dataset/GAN_ImageData/psi-1.0/032000/desktop.ini\n"
     ]
    },
    {
     "name": "stderr",
     "output_type": "stream",
     "text": [
      "100%|██████████| 686/686 [01:18<00:00,  8.73it/s]\n",
      "  0%|          | 1/920 [00:00<01:43,  8.90it/s]"
     ]
    },
    {
     "name": "stdout",
     "output_type": "stream",
     "text": [
      "/media/data2/dataset/GAN_ImageData/psi-1.0/033000/desktop.ini\n"
     ]
    },
    {
     "name": "stderr",
     "output_type": "stream",
     "text": [
      "100%|██████████| 920/920 [01:48<00:00,  8.48it/s]\n",
      "  0%|          | 2/571 [00:00<00:52, 10.92it/s]"
     ]
    },
    {
     "name": "stdout",
     "output_type": "stream",
     "text": [
      "/media/data2/dataset/GAN_ImageData/psi-1.0/034000/desktop.ini\n"
     ]
    },
    {
     "name": "stderr",
     "output_type": "stream",
     "text": [
      "100%|██████████| 571/571 [01:08<00:00,  8.39it/s]\n",
      "  0%|          | 1/881 [00:00<02:38,  5.55it/s]"
     ]
    },
    {
     "name": "stdout",
     "output_type": "stream",
     "text": [
      "/media/data2/dataset/GAN_ImageData/psi-1.0/035000/desktop.ini\n"
     ]
    },
    {
     "name": "stderr",
     "output_type": "stream",
     "text": [
      "100%|██████████| 881/881 [01:42<00:00,  8.60it/s]\n",
      "  0%|          | 1/561 [00:00<01:10,  7.94it/s]"
     ]
    },
    {
     "name": "stdout",
     "output_type": "stream",
     "text": [
      "/media/data2/dataset/GAN_ImageData/psi-1.0/036000/desktop.ini\n"
     ]
    },
    {
     "name": "stderr",
     "output_type": "stream",
     "text": [
      "100%|██████████| 561/561 [00:57<00:00,  9.72it/s]\n",
      "  0%|          | 1/328 [00:00<00:59,  5.51it/s]"
     ]
    },
    {
     "name": "stdout",
     "output_type": "stream",
     "text": [
      "/media/data2/dataset/GAN_ImageData/psi-1.0/037000/desktop.ini\n"
     ]
    },
    {
     "name": "stderr",
     "output_type": "stream",
     "text": [
      "100%|██████████| 328/328 [00:33<00:00,  9.93it/s]\n",
      "  1%|          | 1/117 [00:00<00:16,  7.16it/s]"
     ]
    },
    {
     "name": "stdout",
     "output_type": "stream",
     "text": [
      "/media/data2/dataset/GAN_ImageData/psi-1.0/038000/desktop.ini\n"
     ]
    },
    {
     "name": "stderr",
     "output_type": "stream",
     "text": [
      "100%|██████████| 117/117 [00:13<00:00,  8.43it/s]\n",
      "  0%|          | 0/929 [00:00<?, ?it/s]"
     ]
    },
    {
     "name": "stdout",
     "output_type": "stream",
     "text": [
      "/media/data2/dataset/GAN_ImageData/psi-1.0/039000/desktop.ini\n"
     ]
    },
    {
     "name": "stderr",
     "output_type": "stream",
     "text": [
      "100%|██████████| 929/929 [01:44<00:00,  8.90it/s]\n",
      "  0%|          | 0/63 [00:00<?, ?it/s]"
     ]
    },
    {
     "name": "stdout",
     "output_type": "stream",
     "text": [
      "/media/data2/dataset/GAN_ImageData/psi-1.0/040000/desktop.ini\n"
     ]
    },
    {
     "name": "stderr",
     "output_type": "stream",
     "text": [
      "100%|██████████| 63/63 [00:06<00:00,  9.50it/s]\n",
      "  0%|          | 0/963 [00:00<?, ?it/s]"
     ]
    },
    {
     "name": "stdout",
     "output_type": "stream",
     "text": [
      "/media/data2/dataset/GAN_ImageData/psi-1.0/041000/desktop.ini\n"
     ]
    },
    {
     "name": "stderr",
     "output_type": "stream",
     "text": [
      "100%|██████████| 963/963 [01:41<00:00,  9.53it/s]\n",
      "  0%|          | 1/765 [00:00<02:07,  5.98it/s]"
     ]
    },
    {
     "name": "stdout",
     "output_type": "stream",
     "text": [
      "/media/data2/dataset/GAN_ImageData/psi-1.0/042000/desktop.ini\n"
     ]
    },
    {
     "name": "stderr",
     "output_type": "stream",
     "text": [
      "100%|██████████| 765/765 [01:24<00:00,  9.11it/s]\n",
      "  0%|          | 1/922 [00:00<01:49,  8.44it/s]"
     ]
    },
    {
     "name": "stdout",
     "output_type": "stream",
     "text": [
      "/media/data2/dataset/GAN_ImageData/psi-1.0/043000/desktop.ini\n"
     ]
    },
    {
     "name": "stderr",
     "output_type": "stream",
     "text": [
      "100%|██████████| 922/922 [01:44<00:00,  8.84it/s]\n",
      "  0%|          | 1/931 [00:00<02:28,  6.25it/s]"
     ]
    },
    {
     "name": "stdout",
     "output_type": "stream",
     "text": [
      "/media/data2/dataset/GAN_ImageData/psi-1.0/044000/desktop.ini\n"
     ]
    },
    {
     "name": "stderr",
     "output_type": "stream",
     "text": [
      "100%|██████████| 931/931 [01:47<00:00,  8.69it/s]\n",
      "  0%|          | 1/246 [00:00<00:32,  7.61it/s]"
     ]
    },
    {
     "name": "stdout",
     "output_type": "stream",
     "text": [
      "/media/data2/dataset/GAN_ImageData/psi-1.0/045000/desktop.ini\n"
     ]
    },
    {
     "name": "stderr",
     "output_type": "stream",
     "text": [
      "100%|██████████| 246/246 [00:29<00:00,  8.32it/s]\n",
      "  0%|          | 0/860 [00:00<?, ?it/s]"
     ]
    },
    {
     "name": "stdout",
     "output_type": "stream",
     "text": [
      "/media/data2/dataset/GAN_ImageData/psi-1.0/046000/desktop.ini\n"
     ]
    },
    {
     "name": "stderr",
     "output_type": "stream",
     "text": [
      "100%|██████████| 860/860 [01:43<00:00,  8.33it/s]\n",
      "  0%|          | 1/932 [00:00<02:13,  6.96it/s]"
     ]
    },
    {
     "name": "stdout",
     "output_type": "stream",
     "text": [
      "/media/data2/dataset/GAN_ImageData/psi-1.0/047000/desktop.ini\n"
     ]
    },
    {
     "name": "stderr",
     "output_type": "stream",
     "text": [
      "100%|██████████| 932/932 [01:42<00:00,  9.06it/s]\n",
      "  0%|          | 0/741 [00:00<?, ?it/s]"
     ]
    },
    {
     "name": "stdout",
     "output_type": "stream",
     "text": [
      "/media/data2/dataset/GAN_ImageData/psi-1.0/048000/desktop.ini\n"
     ]
    },
    {
     "name": "stderr",
     "output_type": "stream",
     "text": [
      "100%|██████████| 741/741 [01:26<00:00, 10.11it/s]\n",
      "  0%|          | 0/831 [00:00<?, ?it/s]"
     ]
    },
    {
     "name": "stdout",
     "output_type": "stream",
     "text": [
      "/media/data2/dataset/GAN_ImageData/psi-1.0/049000/desktop.ini\n"
     ]
    },
    {
     "name": "stderr",
     "output_type": "stream",
     "text": [
      "100%|██████████| 831/831 [01:36<00:00,  8.60it/s]\n",
      "  0%|          | 1/499 [00:00<01:02,  7.99it/s]"
     ]
    },
    {
     "name": "stdout",
     "output_type": "stream",
     "text": [
      "/media/data2/dataset/GAN_ImageData/psi-1.0/050000/desktop.ini\n"
     ]
    },
    {
     "name": "stderr",
     "output_type": "stream",
     "text": [
      "100%|██████████| 499/499 [00:56<00:00,  8.82it/s]\n",
      "  0%|          | 2/574 [00:00<00:51, 11.09it/s]"
     ]
    },
    {
     "name": "stdout",
     "output_type": "stream",
     "text": [
      "/media/data2/dataset/GAN_ImageData/psi-1.0/051000/desktop.ini\n"
     ]
    },
    {
     "name": "stderr",
     "output_type": "stream",
     "text": [
      "100%|██████████| 574/574 [01:03<00:00,  9.01it/s]\n",
      "  2%|▏         | 2/108 [00:00<00:08, 12.22it/s]"
     ]
    },
    {
     "name": "stdout",
     "output_type": "stream",
     "text": [
      "/media/data2/dataset/GAN_ImageData/psi-1.0/052000/desktop.ini\n"
     ]
    },
    {
     "name": "stderr",
     "output_type": "stream",
     "text": [
      "100%|██████████| 108/108 [00:11<00:00,  9.31it/s]\n",
      "  0%|          | 1/816 [00:00<01:53,  7.16it/s]"
     ]
    },
    {
     "name": "stdout",
     "output_type": "stream",
     "text": [
      "/media/data2/dataset/GAN_ImageData/psi-1.0/053000/desktop.ini\n"
     ]
    },
    {
     "name": "stderr",
     "output_type": "stream",
     "text": [
      "100%|██████████| 816/816 [01:32<00:00,  8.80it/s]\n",
      "  0%|          | 2/656 [00:00<00:57, 11.45it/s]"
     ]
    },
    {
     "name": "stdout",
     "output_type": "stream",
     "text": [
      "/media/data2/dataset/GAN_ImageData/psi-1.0/054000/desktop.ini\n"
     ]
    },
    {
     "name": "stderr",
     "output_type": "stream",
     "text": [
      "100%|██████████| 656/656 [01:20<00:00,  8.14it/s]\n",
      "  0%|          | 1/782 [00:00<01:22,  9.44it/s]"
     ]
    },
    {
     "name": "stdout",
     "output_type": "stream",
     "text": [
      "/media/data2/dataset/GAN_ImageData/psi-1.0/055000/desktop.ini\n"
     ]
    },
    {
     "name": "stderr",
     "output_type": "stream",
     "text": [
      "100%|██████████| 782/782 [01:33<00:00,  8.35it/s]\n",
      "  0%|          | 0/616 [00:00<?, ?it/s]"
     ]
    },
    {
     "name": "stdout",
     "output_type": "stream",
     "text": [
      "/media/data2/dataset/GAN_ImageData/psi-1.0/056000/desktop.ini\n"
     ]
    },
    {
     "name": "stderr",
     "output_type": "stream",
     "text": [
      "100%|██████████| 616/616 [01:14<00:00,  8.24it/s]\n",
      "  0%|          | 0/442 [00:00<?, ?it/s]"
     ]
    },
    {
     "name": "stdout",
     "output_type": "stream",
     "text": [
      "/media/data2/dataset/GAN_ImageData/psi-1.0/057000/desktop.ini\n"
     ]
    },
    {
     "name": "stderr",
     "output_type": "stream",
     "text": [
      "100%|██████████| 442/442 [01:04<00:00,  6.91it/s]\n",
      "  0%|          | 0/872 [00:00<?, ?it/s]"
     ]
    },
    {
     "name": "stdout",
     "output_type": "stream",
     "text": [
      "/media/data2/dataset/GAN_ImageData/psi-1.0/058000/desktop.ini\n"
     ]
    },
    {
     "name": "stderr",
     "output_type": "stream",
     "text": [
      "100%|██████████| 872/872 [01:53<00:00, 11.51it/s]\n",
      "  0%|          | 0/794 [00:00<?, ?it/s]"
     ]
    },
    {
     "name": "stdout",
     "output_type": "stream",
     "text": [
      "/media/data2/dataset/GAN_ImageData/psi-1.0/059000/desktop.ini\n"
     ]
    },
    {
     "name": "stderr",
     "output_type": "stream",
     "text": [
      "100%|██████████| 794/794 [01:53<00:00,  6.98it/s]\n",
      "  0%|          | 1/904 [00:00<01:35,  9.41it/s]"
     ]
    },
    {
     "name": "stdout",
     "output_type": "stream",
     "text": [
      "/media/data2/dataset/GAN_ImageData/psi-1.0/060000/desktop.ini\n"
     ]
    },
    {
     "name": "stderr",
     "output_type": "stream",
     "text": [
      "100%|██████████| 904/904 [01:38<00:00,  9.13it/s]\n",
      "  0%|          | 0/403 [00:00<?, ?it/s]"
     ]
    },
    {
     "name": "stdout",
     "output_type": "stream",
     "text": [
      "/media/data2/dataset/GAN_ImageData/psi-1.0/061000/desktop.ini\n"
     ]
    },
    {
     "name": "stderr",
     "output_type": "stream",
     "text": [
      "100%|██████████| 403/403 [00:43<00:00,  9.21it/s]\n",
      "  0%|          | 1/991 [00:00<01:40,  9.85it/s]"
     ]
    },
    {
     "name": "stdout",
     "output_type": "stream",
     "text": [
      "/media/data2/dataset/GAN_ImageData/psi-1.0/062000/desktop.ini\n"
     ]
    },
    {
     "name": "stderr",
     "output_type": "stream",
     "text": [
      "100%|██████████| 991/991 [01:48<00:00,  9.12it/s]\n",
      "  0%|          | 1/735 [00:00<01:18,  9.30it/s]"
     ]
    },
    {
     "name": "stdout",
     "output_type": "stream",
     "text": [
      "/media/data2/dataset/GAN_ImageData/psi-1.0/063000/desktop.ini\n"
     ]
    },
    {
     "name": "stderr",
     "output_type": "stream",
     "text": [
      "100%|██████████| 735/735 [01:24<00:00,  8.73it/s]\n",
      "  2%|▏         | 1/51 [00:00<00:07,  6.27it/s]"
     ]
    },
    {
     "name": "stdout",
     "output_type": "stream",
     "text": [
      "/media/data2/dataset/GAN_ImageData/psi-1.0/064000/desktop.ini\n"
     ]
    },
    {
     "name": "stderr",
     "output_type": "stream",
     "text": [
      "100%|██████████| 51/51 [00:05<00:00,  9.29it/s]\n",
      "  0%|          | 2/611 [00:00<00:48, 12.55it/s]"
     ]
    },
    {
     "name": "stdout",
     "output_type": "stream",
     "text": [
      "/media/data2/dataset/GAN_ImageData/psi-1.0/065000/desktop.ini\n"
     ]
    },
    {
     "name": "stderr",
     "output_type": "stream",
     "text": [
      "100%|██████████| 611/611 [01:07<00:00,  9.03it/s]\n",
      "  0%|          | 2/848 [00:00<01:17, 10.93it/s]"
     ]
    },
    {
     "name": "stdout",
     "output_type": "stream",
     "text": [
      "/media/data2/dataset/GAN_ImageData/psi-1.0/066000/desktop.ini\n"
     ]
    },
    {
     "name": "stderr",
     "output_type": "stream",
     "text": [
      "100%|██████████| 848/848 [01:37<00:00,  8.70it/s]\n",
      "  0%|          | 2/598 [00:00<00:51, 11.50it/s]"
     ]
    },
    {
     "name": "stdout",
     "output_type": "stream",
     "text": [
      "/media/data2/dataset/GAN_ImageData/psi-1.0/067000/desktop.ini\n"
     ]
    },
    {
     "name": "stderr",
     "output_type": "stream",
     "text": [
      "100%|██████████| 598/598 [01:02<00:00,  9.61it/s]\n",
      "  0%|          | 1/724 [00:00<01:16,  9.51it/s]"
     ]
    },
    {
     "name": "stdout",
     "output_type": "stream",
     "text": [
      "/media/data2/dataset/GAN_ImageData/psi-1.0/068000/desktop.ini\n"
     ]
    },
    {
     "name": "stderr",
     "output_type": "stream",
     "text": [
      "100%|██████████| 724/724 [01:15<00:00,  9.54it/s]\n",
      "  0%|          | 1/971 [00:00<01:46,  9.13it/s]"
     ]
    },
    {
     "name": "stdout",
     "output_type": "stream",
     "text": [
      "/media/data2/dataset/GAN_ImageData/psi-1.0/069000/desktop.ini\n"
     ]
    },
    {
     "name": "stderr",
     "output_type": "stream",
     "text": [
      "100%|██████████| 971/971 [01:56<00:00,  8.33it/s]\n",
      "  0%|          | 1/1001 [00:00<02:14,  7.45it/s]"
     ]
    },
    {
     "name": "stdout",
     "output_type": "stream",
     "text": [
      "/media/data2/dataset/GAN_ImageData/psi-1.0/070000/desktop.ini\n"
     ]
    },
    {
     "name": "stderr",
     "output_type": "stream",
     "text": [
      "100%|██████████| 1001/1001 [01:56<00:00,  8.59it/s]\n",
      "  0%|          | 0/1001 [00:00<?, ?it/s]"
     ]
    },
    {
     "name": "stdout",
     "output_type": "stream",
     "text": [
      "/media/data2/dataset/GAN_ImageData/psi-1.0/071000/desktop.ini\n"
     ]
    },
    {
     "name": "stderr",
     "output_type": "stream",
     "text": [
      "100%|██████████| 1001/1001 [01:53<00:00,  8.79it/s]\n",
      "  0%|          | 2/1001 [00:00<01:29, 11.18it/s]"
     ]
    },
    {
     "name": "stdout",
     "output_type": "stream",
     "text": [
      "/media/data2/dataset/GAN_ImageData/psi-1.0/072000/desktop.ini\n"
     ]
    },
    {
     "name": "stderr",
     "output_type": "stream",
     "text": [
      "100%|██████████| 1001/1001 [01:53<00:00,  8.84it/s]\n",
      "  0%|          | 1/1001 [00:00<02:21,  7.08it/s]"
     ]
    },
    {
     "name": "stdout",
     "output_type": "stream",
     "text": [
      "/media/data2/dataset/GAN_ImageData/psi-1.0/073000/desktop.ini\n"
     ]
    },
    {
     "name": "stderr",
     "output_type": "stream",
     "text": [
      "100%|██████████| 1001/1001 [01:58<00:00,  8.43it/s]\n",
      "  0%|          | 1/1001 [00:00<02:37,  6.35it/s]"
     ]
    },
    {
     "name": "stdout",
     "output_type": "stream",
     "text": [
      "/media/data2/dataset/GAN_ImageData/psi-1.0/074000/desktop.ini\n"
     ]
    },
    {
     "name": "stderr",
     "output_type": "stream",
     "text": [
      "100%|██████████| 1001/1001 [02:00<00:00,  8.31it/s]\n",
      "  0%|          | 1/1001 [00:00<01:58,  8.42it/s]"
     ]
    },
    {
     "name": "stdout",
     "output_type": "stream",
     "text": [
      "/media/data2/dataset/GAN_ImageData/psi-1.0/075000/desktop.ini\n"
     ]
    },
    {
     "name": "stderr",
     "output_type": "stream",
     "text": [
      "100%|██████████| 1001/1001 [02:21<00:00,  7.09it/s]\n",
      "  0%|          | 1/1001 [00:00<02:33,  6.52it/s]"
     ]
    },
    {
     "name": "stdout",
     "output_type": "stream",
     "text": [
      "/media/data2/dataset/GAN_ImageData/psi-1.0/076000/desktop.ini\n"
     ]
    },
    {
     "name": "stderr",
     "output_type": "stream",
     "text": [
      "100%|██████████| 1001/1001 [02:22<00:00,  7.03it/s]\n",
      "  0%|          | 0/1001 [00:00<?, ?it/s]"
     ]
    },
    {
     "name": "stdout",
     "output_type": "stream",
     "text": [
      "/media/data2/dataset/GAN_ImageData/psi-1.0/077000/desktop.ini\n"
     ]
    },
    {
     "name": "stderr",
     "output_type": "stream",
     "text": [
      "100%|██████████| 1001/1001 [02:06<00:00,  7.91it/s]\n",
      "  0%|          | 1/1001 [00:00<01:57,  8.49it/s]"
     ]
    },
    {
     "name": "stdout",
     "output_type": "stream",
     "text": [
      "/media/data2/dataset/GAN_ImageData/psi-1.0/078000/desktop.ini\n"
     ]
    },
    {
     "name": "stderr",
     "output_type": "stream",
     "text": [
      "100%|██████████| 1001/1001 [01:58<00:00,  8.46it/s]\n",
      "  0%|          | 1/1001 [00:00<02:06,  7.90it/s]"
     ]
    },
    {
     "name": "stdout",
     "output_type": "stream",
     "text": [
      "/media/data2/dataset/GAN_ImageData/psi-1.0/079000/desktop.ini\n"
     ]
    },
    {
     "name": "stderr",
     "output_type": "stream",
     "text": [
      "100%|██████████| 1001/1001 [01:51<00:00,  8.97it/s]\n",
      "  0%|          | 1/1001 [00:00<02:42,  6.16it/s]"
     ]
    },
    {
     "name": "stdout",
     "output_type": "stream",
     "text": [
      "/media/data2/dataset/GAN_ImageData/psi-1.0/080000/desktop.ini\n"
     ]
    },
    {
     "name": "stderr",
     "output_type": "stream",
     "text": [
      "100%|██████████| 1001/1001 [01:52<00:00,  8.91it/s]\n",
      "  0%|          | 1/1001 [00:00<02:49,  5.90it/s]"
     ]
    },
    {
     "name": "stdout",
     "output_type": "stream",
     "text": [
      "/media/data2/dataset/GAN_ImageData/psi-1.0/081000/desktop.ini\n"
     ]
    },
    {
     "name": "stderr",
     "output_type": "stream",
     "text": [
      "100%|██████████| 1001/1001 [01:53<00:00,  8.85it/s]\n",
      "  0%|          | 0/1001 [00:00<?, ?it/s]"
     ]
    },
    {
     "name": "stdout",
     "output_type": "stream",
     "text": [
      "/media/data2/dataset/GAN_ImageData/psi-1.0/082000/desktop.ini\n"
     ]
    },
    {
     "name": "stderr",
     "output_type": "stream",
     "text": [
      "100%|██████████| 1001/1001 [01:53<00:00, 13.92it/s]\n",
      "  0%|          | 1/1001 [00:00<02:11,  7.61it/s]"
     ]
    },
    {
     "name": "stdout",
     "output_type": "stream",
     "text": [
      "/media/data2/dataset/GAN_ImageData/psi-1.0/083000/desktop.ini\n"
     ]
    },
    {
     "name": "stderr",
     "output_type": "stream",
     "text": [
      "100%|██████████| 1001/1001 [01:48<00:00,  9.23it/s]\n",
      "  0%|          | 2/1001 [00:00<01:31, 10.87it/s]"
     ]
    },
    {
     "name": "stdout",
     "output_type": "stream",
     "text": [
      "/media/data2/dataset/GAN_ImageData/psi-1.0/084000/desktop.ini\n"
     ]
    },
    {
     "name": "stderr",
     "output_type": "stream",
     "text": [
      "100%|██████████| 1001/1001 [01:53<00:00,  8.81it/s]\n",
      "  0%|          | 1/1001 [00:00<03:01,  5.52it/s]"
     ]
    },
    {
     "name": "stdout",
     "output_type": "stream",
     "text": [
      "/media/data2/dataset/GAN_ImageData/psi-1.0/085000/desktop.ini\n"
     ]
    },
    {
     "name": "stderr",
     "output_type": "stream",
     "text": [
      "100%|██████████| 1001/1001 [01:56<00:00,  8.56it/s]\n",
      "  0%|          | 1/1001 [00:00<02:08,  7.80it/s]"
     ]
    },
    {
     "name": "stdout",
     "output_type": "stream",
     "text": [
      "/media/data2/dataset/GAN_ImageData/psi-1.0/086000/desktop.ini\n"
     ]
    },
    {
     "name": "stderr",
     "output_type": "stream",
     "text": [
      "100%|██████████| 1001/1001 [01:57<00:00,  8.52it/s]\n",
      "  0%|          | 1/1001 [00:00<02:05,  7.99it/s]"
     ]
    },
    {
     "name": "stdout",
     "output_type": "stream",
     "text": [
      "/media/data2/dataset/GAN_ImageData/psi-1.0/087000/desktop.ini\n"
     ]
    },
    {
     "name": "stderr",
     "output_type": "stream",
     "text": [
      "100%|██████████| 1001/1001 [01:55<00:00,  8.63it/s]\n",
      "  0%|          | 2/1001 [00:00<01:29, 11.14it/s]"
     ]
    },
    {
     "name": "stdout",
     "output_type": "stream",
     "text": [
      "/media/data2/dataset/GAN_ImageData/psi-1.0/088000/desktop.ini\n"
     ]
    },
    {
     "name": "stderr",
     "output_type": "stream",
     "text": [
      "100%|██████████| 1001/1001 [01:57<00:00,  8.50it/s]\n",
      "  0%|          | 0/1001 [00:00<?, ?it/s]"
     ]
    },
    {
     "name": "stdout",
     "output_type": "stream",
     "text": [
      "/media/data2/dataset/GAN_ImageData/psi-1.0/089000/desktop.ini\n"
     ]
    },
    {
     "name": "stderr",
     "output_type": "stream",
     "text": [
      "100%|██████████| 1001/1001 [01:52<00:00,  8.92it/s]\n",
      "  0%|          | 1/1001 [00:00<01:46,  9.36it/s]"
     ]
    },
    {
     "name": "stdout",
     "output_type": "stream",
     "text": [
      "/media/data2/dataset/GAN_ImageData/psi-1.0/090000/desktop.ini\n"
     ]
    },
    {
     "name": "stderr",
     "output_type": "stream",
     "text": [
      "100%|██████████| 1001/1001 [01:54<00:00,  8.77it/s]\n",
      "  0%|          | 1/1001 [00:00<02:01,  8.26it/s]"
     ]
    },
    {
     "name": "stdout",
     "output_type": "stream",
     "text": [
      "/media/data2/dataset/GAN_ImageData/psi-1.0/091000/desktop.ini\n"
     ]
    },
    {
     "name": "stderr",
     "output_type": "stream",
     "text": [
      "100%|██████████| 1001/1001 [01:56<00:00,  8.62it/s]\n",
      "  0%|          | 2/1001 [00:00<01:21, 12.25it/s]"
     ]
    },
    {
     "name": "stdout",
     "output_type": "stream",
     "text": [
      "/media/data2/dataset/GAN_ImageData/psi-1.0/092000/desktop.ini\n"
     ]
    },
    {
     "name": "stderr",
     "output_type": "stream",
     "text": [
      "100%|██████████| 1001/1001 [01:57<00:00, 11.76it/s]\n",
      "  0%|          | 0/1001 [00:00<?, ?it/s]"
     ]
    },
    {
     "name": "stdout",
     "output_type": "stream",
     "text": [
      "/media/data2/dataset/GAN_ImageData/psi-1.0/093000/desktop.ini\n"
     ]
    },
    {
     "name": "stderr",
     "output_type": "stream",
     "text": [
      "100%|██████████| 1001/1001 [01:53<00:00,  8.81it/s]\n",
      "  0%|          | 2/1001 [00:00<01:32, 10.77it/s]"
     ]
    },
    {
     "name": "stdout",
     "output_type": "stream",
     "text": [
      "/media/data2/dataset/GAN_ImageData/psi-1.0/094000/desktop.ini\n"
     ]
    },
    {
     "name": "stderr",
     "output_type": "stream",
     "text": [
      "100%|██████████| 1001/1001 [01:53<00:00,  8.80it/s]\n",
      "  0%|          | 0/1001 [00:00<?, ?it/s]"
     ]
    },
    {
     "name": "stdout",
     "output_type": "stream",
     "text": [
      "/media/data2/dataset/GAN_ImageData/psi-1.0/095000/desktop.ini\n"
     ]
    },
    {
     "name": "stderr",
     "output_type": "stream",
     "text": [
      "100%|██████████| 1001/1001 [01:57<00:00,  8.50it/s]\n",
      "  0%|          | 1/1001 [00:00<02:36,  6.38it/s]"
     ]
    },
    {
     "name": "stdout",
     "output_type": "stream",
     "text": [
      "/media/data2/dataset/GAN_ImageData/psi-1.0/096000/desktop.ini\n"
     ]
    },
    {
     "name": "stderr",
     "output_type": "stream",
     "text": [
      "100%|██████████| 1001/1001 [01:53<00:00,  8.80it/s]\n",
      "  0%|          | 1/1001 [00:00<02:15,  7.39it/s]"
     ]
    },
    {
     "name": "stdout",
     "output_type": "stream",
     "text": [
      "/media/data2/dataset/GAN_ImageData/psi-1.0/097000/desktop.ini\n"
     ]
    },
    {
     "name": "stderr",
     "output_type": "stream",
     "text": [
      "100%|██████████| 1001/1001 [01:59<00:00,  8.38it/s]\n",
      "  0%|          | 1/1001 [00:00<02:10,  7.69it/s]"
     ]
    },
    {
     "name": "stdout",
     "output_type": "stream",
     "text": [
      "/media/data2/dataset/GAN_ImageData/psi-1.0/098000/desktop.ini\n"
     ]
    },
    {
     "name": "stderr",
     "output_type": "stream",
     "text": [
      "100%|██████████| 1001/1001 [01:59<00:00,  8.37it/s]"
     ]
    },
    {
     "name": "stdout",
     "output_type": "stream",
     "text": [
      "/media/data2/dataset/GAN_ImageData/psi-1.0/099000/desktop.ini\n"
     ]
    },
    {
     "name": "stderr",
     "output_type": "stream",
     "text": [
      "\n"
     ]
    }
   ],
   "source": [
    "source_list = os.listdir(source_dir)\n",
    "source_list.remove('desktop.ini')\n",
    "source_list.remove('LICENSE.txt')\n",
    "source_list = np.sort(source_list)\n",
    "for t in source_list:\n",
    "    t_dir = os.path.join(source_dir, t)\n",
    "    images = np.sort(os.listdir(t_dir))\n",
    "    for i in tqdm(images):\n",
    "        i_dir = os.path.join(t_dir, i)\n",
    "        if i_dir[-3:] != 'png':\n",
    "            print(i_dir)\n",
    "            continue\n",
    "        image = Image.open(i_dir).resize((256, 256))\n",
    "        image.save(os.path.join(target_dir, i), \"png\", quality=100)"
   ]
  },
  {
   "cell_type": "code",
   "execution_count": 2,
   "metadata": {
    "scrolled": true
   },
   "outputs": [
    {
     "ename": "NameError",
     "evalue": "name 'images' is not defined",
     "output_type": "error",
     "traceback": [
      "\u001b[0;31m---------------------------------------------------------------------------\u001b[0m",
      "\u001b[0;31mNameError\u001b[0m                                 Traceback (most recent call last)",
      "\u001b[0;32m<ipython-input-2-49a4f536d6a7>\u001b[0m in \u001b[0;36m<module>\u001b[0;34m\u001b[0m\n\u001b[0;32m----> 1\u001b[0;31m \u001b[0mimages\u001b[0m\u001b[0;34m\u001b[0m\u001b[0;34m\u001b[0m\u001b[0m\n\u001b[0m",
      "\u001b[0;31mNameError\u001b[0m: name 'images' is not defined"
     ]
    }
   ],
   "source": [
    "images"
   ]
  }
 ],
 "metadata": {
  "kernelspec": {
   "display_name": "Python 3",
   "language": "python",
   "name": "python3"
  },
  "language_info": {
   "codemirror_mode": {
    "name": "ipython",
    "version": 3
   },
   "file_extension": ".py",
   "mimetype": "text/x-python",
   "name": "python",
   "nbconvert_exporter": "python",
   "pygments_lexer": "ipython3",
   "version": "3.7.3"
  }
 },
 "nbformat": 4,
 "nbformat_minor": 2
}

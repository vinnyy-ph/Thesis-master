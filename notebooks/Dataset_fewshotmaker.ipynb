{
 "cells": [
  {
   "cell_type": "code",
   "execution_count": 1,
   "metadata": {},
   "outputs": [],
   "source": [
    "from PIL import Image\n",
    "import os\n",
    "from tqdm import tqdm\n",
    "import numpy as np\n",
    "import shutil\n",
    "\n",
    "from PIL import ImageFile\n",
    "ImageFile.LOAD_TRUNCATED_IMAGES = True"
   ]
  },
  {
   "cell_type": "code",
   "execution_count": 2,
   "metadata": {},
   "outputs": [],
   "source": [
    "def make_set(source_dir, target_dir, size=100):\n",
    "    if not os.path.isdir(target_dir):\n",
    "        os.mkdir(target_dir)\n",
    "    rf_list = os.listdir(source_dir) # 0 / 1\n",
    "    for rf in rf_list:\n",
    "        rf_source = os.path.join(source_dir, rf)\n",
    "        rf_target = os.path.join(target_dir, rf)\n",
    "        \n",
    "        if not os.path.isdir(rf_target):\n",
    "            os.mkdir(rf_target)\n",
    "        \n",
    "        imgs = os.listdir(rf_source)\n",
    "        if 'Thubms.db' in imgs:\n",
    "            imgs.remove('Thumbs.db')\n",
    "        choice = np.random.choice(imgs, size=size, replace=False)\n",
    "        for i in tqdm(choice):\n",
    "            img_source = os.path.join(rf_source, i)\n",
    "            img_target = os.path.join(rf_target, i)\n",
    "            shutil.copy2(img_source, img_target)"
   ]
  },
  {
   "cell_type": "code",
   "execution_count": 3,
   "metadata": {},
   "outputs": [
    {
     "name": "stderr",
     "output_type": "stream",
     "text": [
      "100%|██████████| 100/100 [00:00<00:00, 710.57it/s]\n",
      "100%|██████████| 100/100 [00:00<00:00, 502.30it/s]\n"
     ]
    }
   ],
   "source": [
    "pg_source = '/media/data2/dataset/GAN_ImageData/StarGAN_128/train'\n",
    "pg_target = '/media/data2/dataset/GAN_ImageData/StarGAN_128/100_shot'\n",
    "make_set(pg_source, pg_target, size=100)"
   ]
  },
  {
   "cell_type": "code",
   "execution_count": 4,
   "metadata": {},
   "outputs": [
    {
     "name": "stderr",
     "output_type": "stream",
     "text": [
      "100%|██████████| 100/100 [00:00<00:00, 119.41it/s]\n",
      "100%|██████████| 100/100 [00:01<00:00, 86.26it/s]\n"
     ]
    }
   ],
   "source": [
    "style1_source = '/media/data2/dataset/GAN_ImageData/StyleGAN_256/train'\n",
    "style1_target = '/media/data2/dataset/GAN_ImageData/StarGAN_128/100_shot_style1_only'\n",
    "make_set(style1_source, style1_target, size=100)"
   ]
  },
  {
   "cell_type": "code",
   "execution_count": null,
   "metadata": {},
   "outputs": [],
   "source": []
  },
  {
   "cell_type": "code",
   "execution_count": null,
   "metadata": {},
   "outputs": [],
   "source": []
  },
  {
   "cell_type": "code",
   "execution_count": null,
   "metadata": {},
   "outputs": [],
   "source": []
  },
  {
   "cell_type": "code",
   "execution_count": null,
   "metadata": {},
   "outputs": [],
   "source": []
  },
  {
   "cell_type": "code",
   "execution_count": null,
   "metadata": {},
   "outputs": [],
   "source": []
  },
  {
   "cell_type": "code",
   "execution_count": null,
   "metadata": {},
   "outputs": [],
   "source": []
  }
 ],
 "metadata": {
  "kernelspec": {
   "display_name": "Python 3",
   "language": "python",
   "name": "python3"
  },
  "language_info": {
   "codemirror_mode": {
    "name": "ipython",
    "version": 3
   },
   "file_extension": ".py",
   "mimetype": "text/x-python",
   "name": "python",
   "nbconvert_exporter": "python",
   "pygments_lexer": "ipython3",
   "version": "3.7.3"
  }
 },
 "nbformat": 4,
 "nbformat_minor": 2
}
